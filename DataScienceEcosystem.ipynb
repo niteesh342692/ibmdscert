{
 "cells": [
  {
   "cell_type": "markdown",
   "id": "3ad245e1-b5ab-4712-8e95-ff40791c931a",
   "metadata": {
    "tags": []
   },
   "source": [
    "# Data Science Tools and Ecosystem"
   ]
  },
  {
   "cell_type": "markdown",
   "id": "bf353c27-9485-45bc-b2db-dc64dcabcadf",
   "metadata": {},
   "source": [
    "In this notebook, Data Science Tools and Ecosystem are summarized."
   ]
  },
  {
   "cell_type": "markdown",
   "id": "8cbd43a3-38c3-4d19-afe0-9ce30ee6e35e",
   "metadata": {},
   "source": [
    "**Objectives:**\n",
    "\n",
    "- List of popular languages for Data Science\n",
    "- List of commonly used libraries for Data Science\n",
    "- List of Data Science Tools\n",
    "- Some arithmetic expressions"
   ]
  },
  {
   "cell_type": "markdown",
   "id": "ef998207-b44c-4afa-8b99-24988856aa0e",
   "metadata": {},
   "source": [
    "Some of the popular languages that Data Scientists use are:\n",
    "\n",
    "1. Python\n",
    "2. R\n",
    "3. SQL"
   ]
  },
  {
   "cell_type": "markdown",
   "id": "9cfbe692-99b6-4a6b-918c-480b67c3f063",
   "metadata": {},
   "source": [
    "Some of the commonly used libraries used by Data Scientists include:\n",
    "\n",
    "1. TensorFlow\n",
    "2. SciPy\n",
    "3. NumPy\n",
    "4. Pandas\n",
    "5. PyTorch"
   ]
  },
  {
   "cell_type": "markdown",
   "id": "da8ebaed-0be9-428d-b240-e636a662798a",
   "metadata": {},
   "source": [
    "Data Science Tools |Data Science Tools| |-| |Jupyter Notebook| |R Studio| |Apache Spark| "
   ]
  },
  {
   "cell_type": "markdown",
   "id": "568a0c12-5997-4413-b263-bef9620e0ea9",
   "metadata": {},
   "source": [
    "### Below are a few examples of evaluating arithmetic expressions in Python"
   ]
  },
  {
   "cell_type": "code",
   "execution_count": 1,
   "id": "820b8ecb-8ae3-4994-9405-fdf4f1449359",
   "metadata": {
    "tags": []
   },
   "outputs": [
    {
     "data": {
      "text/plain": [
       "17"
      ]
     },
     "execution_count": 1,
     "metadata": {},
     "output_type": "execute_result"
    }
   ],
   "source": [
    "# This a simple arithmetic expression to mutiply then add integers\n",
    "(3*4)+5"
   ]
  },
  {
   "cell_type": "code",
   "execution_count": 2,
   "id": "2d1a6d73-1425-4182-a3e5-c244de5a7236",
   "metadata": {
    "tags": []
   },
   "outputs": [
    {
     "data": {
      "text/plain": [
       "33.333333333333336"
      ]
     },
     "execution_count": 2,
     "metadata": {},
     "output_type": "execute_result"
    }
   ],
   "source": [
    "# This will convert 200 minutes to hours by diving by 60\n",
    "200/6"
   ]
  },
  {
   "cell_type": "markdown",
   "id": "0c2527de-985f-44b2-bd4b-b3bb8d4152f6",
   "metadata": {},
   "source": [
    "## Author\n",
    "Niteesh KR"
   ]
  }
 ],
 "metadata": {
  "kernelspec": {
   "display_name": "Python",
   "language": "python",
   "name": "conda-env-python-py"
  },
  "language_info": {
   "codemirror_mode": {
    "name": "ipython",
    "version": 3
   },
   "file_extension": ".py",
   "mimetype": "text/x-python",
   "name": "python",
   "nbconvert_exporter": "python",
   "pygments_lexer": "ipython3",
   "version": "3.7.12"
  }
 },
 "nbformat": 4,
 "nbformat_minor": 5
}
